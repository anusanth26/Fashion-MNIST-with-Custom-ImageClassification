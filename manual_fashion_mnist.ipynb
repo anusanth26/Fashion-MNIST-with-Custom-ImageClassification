{
 "cells": [
  {
   "cell_type": "code",
   "execution_count": 2,
   "id": "bec91bad",
   "metadata": {},
   "outputs": [],
   "source": [
    "import numpy as np\n",
    "import tensorflow as tf"
   ]
  },
  {
   "cell_type": "code",
   "execution_count": 3,
   "id": "705e12cd",
   "metadata": {},
   "outputs": [],
   "source": [
    "(x_train,y_train), (x_test,y_test) = tf.keras.datasets.fashion_mnist.load_data()"
   ]
  },
  {
   "cell_type": "code",
   "execution_count": 5,
   "id": "c8884b80",
   "metadata": {},
   "outputs": [],
   "source": [
    "x_train = x_train.reshape(len(x_train),28*28)\n",
    "x_test = x_test.reshape(len(x_test), 28*28)\n"
   ]
  },
  {
   "cell_type": "code",
   "execution_count": 6,
   "id": "834ad818",
   "metadata": {},
   "outputs": [],
   "source": [
    "x_train = x_train / 255.0\n",
    "x_test = x_test / 255.0\n"
   ]
  },
  {
   "cell_type": "code",
   "execution_count": 7,
   "id": "21eb434b",
   "metadata": {},
   "outputs": [],
   "source": [
    "def one_hot_encoding(y,num_classes=10):\n",
    "    return np.eye(num_classes)[y]"
   ]
  },
  {
   "cell_type": "code",
   "execution_count": 9,
   "id": "2f7bc36b",
   "metadata": {},
   "outputs": [],
   "source": [
    "y_train = one_hot_encoding(y_train)\n",
    "y_test = one_hot_encoding(y_test)"
   ]
  },
  {
   "cell_type": "code",
   "execution_count": 16,
   "id": "275d18de",
   "metadata": {},
   "outputs": [],
   "source": [
    "w1 = np.random.randn(784,50)* 0.01\n",
    "b1 = np.zeros((1,50))\n",
    "\n",
    "w2 = np.random.rand(50,50)*0.01\n",
    "b2 = np.zeros((1,50))\n",
    "\n",
    "w3 = np.random.rand(50,10)*0.01\n",
    "b3 = np.zeros((1,10))"
   ]
  },
  {
   "cell_type": "code",
   "execution_count": 11,
   "id": "61927987",
   "metadata": {},
   "outputs": [],
   "source": [
    "#ReLu -- Activation Layer\n",
    "def relu(x):\n",
    "    return np.maximum(0,x)"
   ]
  },
  {
   "cell_type": "code",
   "execution_count": 12,
   "id": "69ee89dc",
   "metadata": {},
   "outputs": [],
   "source": [
    "#1st hidden layer's output\n",
    "z1 = np.dot(x_train,w1) + b1\n",
    "\n",
    "A1 = relu(z1)"
   ]
  },
  {
   "cell_type": "code",
   "execution_count": 17,
   "id": "87bf5dd7",
   "metadata": {},
   "outputs": [],
   "source": [
    "#passing it into 2nd hidden layer\n",
    "z2 = np.dot(A1,w2) + b2\n",
    "A2 = relu(z2)"
   ]
  },
  {
   "cell_type": "code",
   "execution_count": 18,
   "id": "a009b0dc",
   "metadata": {},
   "outputs": [],
   "source": [
    "#softmax function\n",
    "def softmax(x):\n",
    "    exp_values = np.exp(x-np.max(x, axis=1,keepdims = True) ) \n",
    "    probabilities = exp_values / np.sum(exp_values,axis=1,keepdims=True)\n",
    "    return probabilities"
   ]
  },
  {
   "cell_type": "code",
   "execution_count": 19,
   "id": "cf5adbb6",
   "metadata": {},
   "outputs": [],
   "source": [
    "#output layer\n",
    "z3 = np.dot(A2,w3) + b3\n",
    "A3 = softmax(z3)"
   ]
  },
  {
   "cell_type": "code",
   "execution_count": 22,
   "id": "748fb59c",
   "metadata": {},
   "outputs": [],
   "source": [
    "#loss function\n",
    "def cross_entropy_loss(y_true,y_pred):\n",
    "    epsilon = 1e-12\n",
    "    y_pred = np.clip(y_pred,epsilon,1. - epsilon)\n",
    "\n",
    "    loss = -np.sum(y_true*np.log(y_pred),axis = 1)\n",
    "\n",
    "    return np.mean(loss)"
   ]
  },
  {
   "cell_type": "code",
   "execution_count": 23,
   "id": "22862def",
   "metadata": {},
   "outputs": [],
   "source": [
    "loss = cross_entropy_loss(y_train,A3)"
   ]
  },
  {
   "cell_type": "code",
   "execution_count": null,
   "id": "39b4cd30",
   "metadata": {},
   "outputs": [],
   "source": []
  }
 ],
 "metadata": {
  "kernelspec": {
   "display_name": "Python 3",
   "language": "python",
   "name": "python3"
  },
  "language_info": {
   "codemirror_mode": {
    "name": "ipython",
    "version": 3
   },
   "file_extension": ".py",
   "mimetype": "text/x-python",
   "name": "python",
   "nbconvert_exporter": "python",
   "pygments_lexer": "ipython3",
   "version": "3.10.0"
  }
 },
 "nbformat": 4,
 "nbformat_minor": 5
}
